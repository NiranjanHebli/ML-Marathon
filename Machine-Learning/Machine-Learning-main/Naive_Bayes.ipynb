{
  "cells": [
    {
      "cell_type": "markdown",
      "metadata": {
        "id": "LnlJ9eMbgnCM"
      },
      "source": [
        "### **Import Libraries**"
      ]
    },
    {
      "cell_type": "code",
      "execution_count": 1,
      "metadata": {
        "id": "LsseJ1QZghJb"
      },
      "outputs": [],
      "source": [
        "import numpy as np\n",
        "from sklearn.naive_bayes import GaussianNB"
      ]
    },
    {
      "cell_type": "markdown",
      "metadata": {
        "id": "NHLiHWeigZ4d"
      },
      "source": [
        "### **Let's generate some Random Data**"
      ]
    },
    {
      "cell_type": "code",
      "execution_count": 2,
      "metadata": {
        "id": "twUOfdUe3U3g"
      },
      "outputs": [],
      "source": [
        "input_feature_x = np.array([[-2, -1], [-3, -1], [-4, -3], [1, 1], [3, 2], [6,4]])\n",
        "output_y = np.array([1, 1, 1, 2, 2, 2])"
      ]
    },
    {
      "cell_type": "markdown",
      "metadata": {
        "id": "XrUPghMjhuuN"
      },
      "source": [
        "### **Create the model and fit on data**"
      ]
    },
    {
      "cell_type": "code",
      "execution_count": 3,
      "metadata": {
        "colab": {
          "base_uri": "https://localhost:8080/"
        },
        "id": "n0VxMa4CgU6u",
        "outputId": "34420796-71f4-4eab-e8a6-e03b0f7bb9c2"
      },
      "outputs": [
        {
          "data": {
            "text/plain": [
              "GaussianNB()"
            ]
          },
          "execution_count": 3,
          "metadata": {},
          "output_type": "execute_result"
        }
      ],
      "source": [
        "nb_classifier = GaussianNB()\n",
        "nb_classifier.fit(input_feature_x, output_y)"
      ]
    },
    {
      "cell_type": "markdown",
      "metadata": {
        "id": "IImqee7CifGn"
      },
      "source": [
        "### **Get Predictions**"
      ]
    },
    {
      "cell_type": "code",
      "execution_count": 4,
      "metadata": {
        "colab": {
          "base_uri": "https://localhost:8080/"
        },
        "id": "_wVrW2A_gUpR",
        "outputId": "6c8605ca-460d-42c9-feee-708d84866777"
      },
      "outputs": [
        {
          "data": {
            "text/plain": [
              "array([2])"
            ]
          },
          "execution_count": 4,
          "metadata": {},
          "output_type": "execute_result"
        }
      ],
      "source": [
        "prediction_array = [[-8,5]]\n",
        "nb_classifier.predict(prediction_array)"
      ]
    },
    {
      "cell_type": "code",
      "execution_count": null,
      "metadata": {
        "id": "cs047Uo45c6-"
      },
      "outputs": [],
      "source": []
    }
  ],
  "metadata": {
    "colab": {
      "collapsed_sections": [],
      "provenance": []
    },
    "kernelspec": {
      "display_name": "Python 3.7.0b5 64-bit",
      "language": "python",
      "name": "python3"
    },
    "language_info": {
      "codemirror_mode": {
        "name": "ipython",
        "version": 3
      },
      "file_extension": ".py",
      "mimetype": "text/x-python",
      "name": "python",
      "nbconvert_exporter": "python",
      "pygments_lexer": "ipython3",
      "version": "3.7.0b5"
    },
    "vscode": {
      "interpreter": {
        "hash": "252189e587d1e2aeba4a06e91fa71896c7a7f6e22e918b9407c7cde4ef2d5985"
      }
    }
  },
  "nbformat": 4,
  "nbformat_minor": 0
}
