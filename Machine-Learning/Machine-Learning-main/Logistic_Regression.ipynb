{
  "cells": [
    {
      "cell_type": "markdown",
      "metadata": {
        "id": "0fIju_FpQSJ8"
      },
      "source": [
        "### **Import Libraries**"
      ]
    },
    {
      "cell_type": "code",
      "execution_count": 1,
      "metadata": {
        "id": "T_p7stAbQZfc"
      },
      "outputs": [],
      "source": [
        "import numpy as np\n",
        "from sklearn.linear_model import LogisticRegression"
      ]
    },
    {
      "cell_type": "markdown",
      "metadata": {
        "id": "G8P6JSvtQiC1"
      },
      "source": [
        "### **Let's generate some Random Data**"
      ]
    },
    {
      "cell_type": "code",
      "execution_count": 2,
      "metadata": {
        "id": "58sgCjsKQkAV"
      },
      "outputs": [],
      "source": [
        "input_feature_x = np.array([4, 12, 16, 20, 24, 36, 40]).reshape((-1, 1))\n",
        "output_y = np.array([0,0,0,1,0,1,1])"
      ]
    },
    {
      "cell_type": "markdown",
      "metadata": {
        "id": "IdUHj6MDQyTb"
      },
      "source": [
        "### **Create the logistic regression model and fit on data**"
      ]
    },
    {
      "cell_type": "code",
      "execution_count": 3,
      "metadata": {
        "id": "pQB_hLZtQvRc"
      },
      "outputs": [],
      "source": [
        "my_first_logistic_model = LogisticRegression()"
      ]
    },
    {
      "cell_type": "code",
      "execution_count": 4,
      "metadata": {
        "colab": {
          "base_uri": "https://localhost:8080/"
        },
        "id": "BS9SVNhEQ-YQ",
        "outputId": "f9c99f34-78b7-499d-aa3d-8c0da4c738c4"
      },
      "outputs": [
        {
          "data": {
            "text/plain": [
              "LogisticRegression()"
            ]
          },
          "execution_count": 4,
          "metadata": {},
          "output_type": "execute_result"
        }
      ],
      "source": [
        "my_first_logistic_model.fit(input_feature_x, output_y)"
      ]
    },
    {
      "cell_type": "markdown",
      "metadata": {
        "id": "nIYSuDtJRLTS"
      },
      "source": [
        "### **Get Predictions**"
      ]
    },
    {
      "cell_type": "code",
      "execution_count": 5,
      "metadata": {
        "colab": {
          "base_uri": "https://localhost:8080/"
        },
        "id": "2DV6mBn3RCW0",
        "outputId": "2abde622-6880-4fb2-becf-de85f2786c00"
      },
      "outputs": [
        {
          "data": {
            "text/plain": [
              "array([0, 0])"
            ]
          },
          "execution_count": 5,
          "metadata": {},
          "output_type": "execute_result"
        }
      ],
      "source": [
        "prediction_array = np.array([13,16]).reshape(-1,1)\n",
        "my_first_logistic_model.predict(prediction_array)"
      ]
    },
    {
      "cell_type": "markdown",
      "metadata": {
        "id": "ZmIJQrTURWWk"
      },
      "source": [
        "## **Congratulations, You successfully completed the Logistic Regression !!**"
      ]
    }
  ],
  "metadata": {
    "colab": {
      "collapsed_sections": [],
      "provenance": []
    },
    "kernelspec": {
      "display_name": "Python 3.7.0b5 64-bit",
      "language": "python",
      "name": "python3"
    },
    "language_info": {
      "codemirror_mode": {
        "name": "ipython",
        "version": 3
      },
      "file_extension": ".py",
      "mimetype": "text/x-python",
      "name": "python",
      "nbconvert_exporter": "python",
      "pygments_lexer": "ipython3",
      "version": "3.7.0b5"
    },
    "vscode": {
      "interpreter": {
        "hash": "252189e587d1e2aeba4a06e91fa71896c7a7f6e22e918b9407c7cde4ef2d5985"
      }
    }
  },
  "nbformat": 4,
  "nbformat_minor": 0
}
